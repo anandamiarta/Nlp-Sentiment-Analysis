{
  "nbformat": 4,
  "nbformat_minor": 0,
  "metadata": {
    "colab": {
      "name": "NLP Sentiment Analysis.ipynb",
      "provenance": [],
      "collapsed_sections": []
    },
    "kernelspec": {
      "name": "python3",
      "display_name": "Python 3"
    }
  },
  "cells": [
    {
      "cell_type": "code",
      "metadata": {
        "id": "tvX5fXtQX8lr"
      },
      "source": [
        "import numpy as np\n",
        "import pandas as pd\n",
        "\n",
        "import seaborn as sns\n",
        "import matplotlib.pyplot as plt\n",
        "%matplotlib inline\n",
        "from sklearn.model_selection import train_test_split\n",
        "from sklearn.feature_extraction.text import CountVectorizer\n",
        "from sklearn.metrics import confusion_matrix\n",
        "from sklearn.naive_bayes import GaussianNB"
      ],
      "execution_count": null,
      "outputs": []
    },
    {
      "cell_type": "code",
      "metadata": {
        "id": "PbEWPwLcZj_7"
      },
      "source": [
        "url = 'https://raw.githubusercontent.com/chlaudiah/Sentiment-Classification-FD-Reviews/master/dataset.csv'"
      ],
      "execution_count": null,
      "outputs": []
    },
    {
      "cell_type": "code",
      "metadata": {
        "colab": {
          "base_uri": "https://localhost:8080/",
          "height": 197
        },
        "id": "zGVlzWGdYeXW",
        "outputId": "11f58b87-29f8-4a77-c6db-bb51e24f1ad9"
      },
      "source": [
        "df = pd.read_csv(url) #read data\n",
        "df.head() #munculkan data"
      ],
      "execution_count": null,
      "outputs": [
        {
          "output_type": "execute_result",
          "data": {
            "text/html": [
              "<div>\n",
              "<style scoped>\n",
              "    .dataframe tbody tr th:only-of-type {\n",
              "        vertical-align: middle;\n",
              "    }\n",
              "\n",
              "    .dataframe tbody tr th {\n",
              "        vertical-align: top;\n",
              "    }\n",
              "\n",
              "    .dataframe thead th {\n",
              "        text-align: right;\n",
              "    }\n",
              "</style>\n",
              "<table border=\"1\" class=\"dataframe\">\n",
              "  <thead>\n",
              "    <tr style=\"text-align: right;\">\n",
              "      <th></th>\n",
              "      <th>ID Data</th>\n",
              "      <th>Nama Produk</th>\n",
              "      <th>Jenis Kulit</th>\n",
              "      <th>Review Produk</th>\n",
              "      <th>Rating</th>\n",
              "      <th>Label</th>\n",
              "    </tr>\n",
              "  </thead>\n",
              "  <tbody>\n",
              "    <tr>\n",
              "      <th>0</th>\n",
              "      <td>A001</td>\n",
              "      <td>Cetaphil: Gentle Skin Cleanser</td>\n",
              "      <td>Oily</td>\n",
              "      <td>Aku suka banget sama ini. Cuma ini cleanser ya...</td>\n",
              "      <td>5</td>\n",
              "      <td>Positive</td>\n",
              "    </tr>\n",
              "    <tr>\n",
              "      <th>1</th>\n",
              "      <td>A002</td>\n",
              "      <td>Cetaphil: Gentle Skin Cleanser</td>\n",
              "      <td>Oily</td>\n",
              "      <td>Walaupun produknya mengklaim dapat digunakan s...</td>\n",
              "      <td>5</td>\n",
              "      <td>Positive</td>\n",
              "    </tr>\n",
              "    <tr>\n",
              "      <th>2</th>\n",
              "      <td>A003</td>\n",
              "      <td>Cetaphil: Gentle Skin Cleanser</td>\n",
              "      <td>Dry</td>\n",
              "      <td>Thanks God for this product. Produk ini udah p...</td>\n",
              "      <td>5</td>\n",
              "      <td>Positive</td>\n",
              "    </tr>\n",
              "    <tr>\n",
              "      <th>3</th>\n",
              "      <td>A004</td>\n",
              "      <td>Cetaphil: Gentle Skin Cleanser</td>\n",
              "      <td>Oily</td>\n",
              "      <td>Another favorite product from Cetaphil. Seneng...</td>\n",
              "      <td>5</td>\n",
              "      <td>Positive</td>\n",
              "    </tr>\n",
              "    <tr>\n",
              "      <th>4</th>\n",
              "      <td>A005</td>\n",
              "      <td>Cetaphil: Gentle Skin Cleanser</td>\n",
              "      <td>Oily</td>\n",
              "      <td>awalnya kaget karena cleanser ini enggak berbu...</td>\n",
              "      <td>5</td>\n",
              "      <td>Positive</td>\n",
              "    </tr>\n",
              "  </tbody>\n",
              "</table>\n",
              "</div>"
            ],
            "text/plain": [
              "  ID Data                     Nama Produk  ... Rating     Label\n",
              "0    A001  Cetaphil: Gentle Skin Cleanser  ...      5  Positive\n",
              "1    A002  Cetaphil: Gentle Skin Cleanser  ...      5  Positive\n",
              "2    A003  Cetaphil: Gentle Skin Cleanser  ...      5  Positive\n",
              "3    A004  Cetaphil: Gentle Skin Cleanser  ...      5  Positive\n",
              "4    A005  Cetaphil: Gentle Skin Cleanser  ...      5  Positive\n",
              "\n",
              "[5 rows x 6 columns]"
            ]
          },
          "metadata": {
            "tags": []
          },
          "execution_count": 75
        }
      ]
    },
    {
      "cell_type": "code",
      "metadata": {
        "colab": {
          "base_uri": "https://localhost:8080/",
          "height": 407
        },
        "id": "sZGw-VkddPNl",
        "outputId": "181a3054-9d20-4b1e-dc68-16c2f0493939"
      },
      "source": [
        "df['Label'] = df['Label'].replace(['negative','positive'],['Negative','Positive'])\n",
        "df"
      ],
      "execution_count": null,
      "outputs": [
        {
          "output_type": "execute_result",
          "data": {
            "text/html": [
              "<div>\n",
              "<style scoped>\n",
              "    .dataframe tbody tr th:only-of-type {\n",
              "        vertical-align: middle;\n",
              "    }\n",
              "\n",
              "    .dataframe tbody tr th {\n",
              "        vertical-align: top;\n",
              "    }\n",
              "\n",
              "    .dataframe thead th {\n",
              "        text-align: right;\n",
              "    }\n",
              "</style>\n",
              "<table border=\"1\" class=\"dataframe\">\n",
              "  <thead>\n",
              "    <tr style=\"text-align: right;\">\n",
              "      <th></th>\n",
              "      <th>ID Data</th>\n",
              "      <th>Nama Produk</th>\n",
              "      <th>Jenis Kulit</th>\n",
              "      <th>Review Produk</th>\n",
              "      <th>Rating</th>\n",
              "      <th>Label</th>\n",
              "    </tr>\n",
              "  </thead>\n",
              "  <tbody>\n",
              "    <tr>\n",
              "      <th>0</th>\n",
              "      <td>A001</td>\n",
              "      <td>Cetaphil: Gentle Skin Cleanser</td>\n",
              "      <td>Oily</td>\n",
              "      <td>Aku suka banget sama ini. Cuma ini cleanser ya...</td>\n",
              "      <td>5</td>\n",
              "      <td>Positive</td>\n",
              "    </tr>\n",
              "    <tr>\n",
              "      <th>1</th>\n",
              "      <td>A002</td>\n",
              "      <td>Cetaphil: Gentle Skin Cleanser</td>\n",
              "      <td>Oily</td>\n",
              "      <td>Walaupun produknya mengklaim dapat digunakan s...</td>\n",
              "      <td>5</td>\n",
              "      <td>Positive</td>\n",
              "    </tr>\n",
              "    <tr>\n",
              "      <th>2</th>\n",
              "      <td>A003</td>\n",
              "      <td>Cetaphil: Gentle Skin Cleanser</td>\n",
              "      <td>Dry</td>\n",
              "      <td>Thanks God for this product. Produk ini udah p...</td>\n",
              "      <td>5</td>\n",
              "      <td>Positive</td>\n",
              "    </tr>\n",
              "    <tr>\n",
              "      <th>3</th>\n",
              "      <td>A004</td>\n",
              "      <td>Cetaphil: Gentle Skin Cleanser</td>\n",
              "      <td>Oily</td>\n",
              "      <td>Another favorite product from Cetaphil. Seneng...</td>\n",
              "      <td>5</td>\n",
              "      <td>Positive</td>\n",
              "    </tr>\n",
              "    <tr>\n",
              "      <th>4</th>\n",
              "      <td>A005</td>\n",
              "      <td>Cetaphil: Gentle Skin Cleanser</td>\n",
              "      <td>Oily</td>\n",
              "      <td>awalnya kaget karena cleanser ini enggak berbu...</td>\n",
              "      <td>5</td>\n",
              "      <td>Positive</td>\n",
              "    </tr>\n",
              "    <tr>\n",
              "      <th>...</th>\n",
              "      <td>...</td>\n",
              "      <td>...</td>\n",
              "      <td>...</td>\n",
              "      <td>...</td>\n",
              "      <td>...</td>\n",
              "      <td>...</td>\n",
              "    </tr>\n",
              "    <tr>\n",
              "      <th>495</th>\n",
              "      <td>A496</td>\n",
              "      <td>Acnes: Creamy Wash</td>\n",
              "      <td>Dry</td>\n",
              "      <td>Aku beli ini karna baca blog female daily 3 cl...</td>\n",
              "      <td>1</td>\n",
              "      <td>Negative</td>\n",
              "    </tr>\n",
              "    <tr>\n",
              "      <th>496</th>\n",
              "      <td>A497</td>\n",
              "      <td>Acnes: Creamy Wash</td>\n",
              "      <td>Dry</td>\n",
              "      <td>aku pake ini udh ngabisin 1 botol, saat aku je...</td>\n",
              "      <td>1</td>\n",
              "      <td>Negative</td>\n",
              "    </tr>\n",
              "    <tr>\n",
              "      <th>497</th>\n",
              "      <td>A498</td>\n",
              "      <td>Acnes: Creamy Wash</td>\n",
              "      <td>Dry</td>\n",
              "      <td>Facial Wash yg aku beli pas awal2 mulai jerawa...</td>\n",
              "      <td>1</td>\n",
              "      <td>Negative</td>\n",
              "    </tr>\n",
              "    <tr>\n",
              "      <th>498</th>\n",
              "      <td>A499</td>\n",
              "      <td>Acnes: Creamy Wash</td>\n",
              "      <td>Dry</td>\n",
              "      <td>Aku pernah beli ini dengan harapan bisa bantu ...</td>\n",
              "      <td>1</td>\n",
              "      <td>Negative</td>\n",
              "    </tr>\n",
              "    <tr>\n",
              "      <th>499</th>\n",
              "      <td>A500</td>\n",
              "      <td>Acnes: Creamy Wash</td>\n",
              "      <td>Dry</td>\n",
              "      <td>Beli ini waktu awal kuliah pas banyak jerawat....</td>\n",
              "      <td>1</td>\n",
              "      <td>Negative</td>\n",
              "    </tr>\n",
              "  </tbody>\n",
              "</table>\n",
              "<p>500 rows × 6 columns</p>\n",
              "</div>"
            ],
            "text/plain": [
              "    ID Data                     Nama Produk  ... Rating     Label\n",
              "0      A001  Cetaphil: Gentle Skin Cleanser  ...      5  Positive\n",
              "1      A002  Cetaphil: Gentle Skin Cleanser  ...      5  Positive\n",
              "2      A003  Cetaphil: Gentle Skin Cleanser  ...      5  Positive\n",
              "3      A004  Cetaphil: Gentle Skin Cleanser  ...      5  Positive\n",
              "4      A005  Cetaphil: Gentle Skin Cleanser  ...      5  Positive\n",
              "..      ...                             ...  ...    ...       ...\n",
              "495    A496              Acnes: Creamy Wash  ...      1  Negative\n",
              "496    A497              Acnes: Creamy Wash  ...      1  Negative\n",
              "497    A498              Acnes: Creamy Wash  ...      1  Negative\n",
              "498    A499              Acnes: Creamy Wash  ...      1  Negative\n",
              "499    A500              Acnes: Creamy Wash  ...      1  Negative\n",
              "\n",
              "[500 rows x 6 columns]"
            ]
          },
          "metadata": {
            "tags": []
          },
          "execution_count": 76
        }
      ]
    },
    {
      "cell_type": "code",
      "metadata": {
        "colab": {
          "base_uri": "https://localhost:8080/"
        },
        "id": "8BdZy36y_JU2",
        "outputId": "183a846a-16f3-4b2f-8ee5-1800b02ccfd5"
      },
      "source": [
        "df.shape"
      ],
      "execution_count": null,
      "outputs": [
        {
          "output_type": "execute_result",
          "data": {
            "text/plain": [
              "(500, 6)"
            ]
          },
          "metadata": {
            "tags": []
          },
          "execution_count": 77
        }
      ]
    },
    {
      "cell_type": "code",
      "metadata": {
        "colab": {
          "base_uri": "https://localhost:8080/"
        },
        "id": "dnh88HKTLvuj",
        "outputId": "9b9c54ae-92d7-4938-ccbd-fd1a3e2962eb"
      },
      "source": [
        "df.isnull().any(axis=1).sum()"
      ],
      "execution_count": null,
      "outputs": [
        {
          "output_type": "execute_result",
          "data": {
            "text/plain": [
              "0"
            ]
          },
          "metadata": {
            "tags": []
          },
          "execution_count": 78
        }
      ]
    },
    {
      "cell_type": "code",
      "metadata": {
        "id": "ayQ_c62zeXlw"
      },
      "source": [
        "df = df.drop(columns=['ID Data'])"
      ],
      "execution_count": null,
      "outputs": []
    },
    {
      "cell_type": "code",
      "metadata": {
        "colab": {
          "base_uri": "https://localhost:8080/"
        },
        "id": "jsaCla8wczgT",
        "outputId": "403c8d52-0669-4474-9658-b1e4fb9397f1"
      },
      "source": [
        "df['Label'].value_counts()"
      ],
      "execution_count": null,
      "outputs": [
        {
          "output_type": "execute_result",
          "data": {
            "text/plain": [
              "Positive    250\n",
              "Negative    250\n",
              "Name: Label, dtype: int64"
            ]
          },
          "metadata": {
            "tags": []
          },
          "execution_count": 80
        }
      ]
    },
    {
      "cell_type": "code",
      "metadata": {
        "colab": {
          "base_uri": "https://localhost:8080/",
          "height": 407
        },
        "id": "6i-eGZkAeGTC",
        "outputId": "c2839e1e-5196-4a0f-e845-66f26ceee8e1"
      },
      "source": [
        "from sklearn import preprocessing\n",
        "le = preprocessing.LabelEncoder()\n",
        "\n",
        "lbl       = le.fit_transform(df['Label']) \n",
        "\n",
        "df['Label'] = lbl\n",
        "df"
      ],
      "execution_count": null,
      "outputs": [
        {
          "output_type": "execute_result",
          "data": {
            "text/html": [
              "<div>\n",
              "<style scoped>\n",
              "    .dataframe tbody tr th:only-of-type {\n",
              "        vertical-align: middle;\n",
              "    }\n",
              "\n",
              "    .dataframe tbody tr th {\n",
              "        vertical-align: top;\n",
              "    }\n",
              "\n",
              "    .dataframe thead th {\n",
              "        text-align: right;\n",
              "    }\n",
              "</style>\n",
              "<table border=\"1\" class=\"dataframe\">\n",
              "  <thead>\n",
              "    <tr style=\"text-align: right;\">\n",
              "      <th></th>\n",
              "      <th>Nama Produk</th>\n",
              "      <th>Jenis Kulit</th>\n",
              "      <th>Review Produk</th>\n",
              "      <th>Rating</th>\n",
              "      <th>Label</th>\n",
              "    </tr>\n",
              "  </thead>\n",
              "  <tbody>\n",
              "    <tr>\n",
              "      <th>0</th>\n",
              "      <td>Cetaphil: Gentle Skin Cleanser</td>\n",
              "      <td>Oily</td>\n",
              "      <td>Aku suka banget sama ini. Cuma ini cleanser ya...</td>\n",
              "      <td>5</td>\n",
              "      <td>1</td>\n",
              "    </tr>\n",
              "    <tr>\n",
              "      <th>1</th>\n",
              "      <td>Cetaphil: Gentle Skin Cleanser</td>\n",
              "      <td>Oily</td>\n",
              "      <td>Walaupun produknya mengklaim dapat digunakan s...</td>\n",
              "      <td>5</td>\n",
              "      <td>1</td>\n",
              "    </tr>\n",
              "    <tr>\n",
              "      <th>2</th>\n",
              "      <td>Cetaphil: Gentle Skin Cleanser</td>\n",
              "      <td>Dry</td>\n",
              "      <td>Thanks God for this product. Produk ini udah p...</td>\n",
              "      <td>5</td>\n",
              "      <td>1</td>\n",
              "    </tr>\n",
              "    <tr>\n",
              "      <th>3</th>\n",
              "      <td>Cetaphil: Gentle Skin Cleanser</td>\n",
              "      <td>Oily</td>\n",
              "      <td>Another favorite product from Cetaphil. Seneng...</td>\n",
              "      <td>5</td>\n",
              "      <td>1</td>\n",
              "    </tr>\n",
              "    <tr>\n",
              "      <th>4</th>\n",
              "      <td>Cetaphil: Gentle Skin Cleanser</td>\n",
              "      <td>Oily</td>\n",
              "      <td>awalnya kaget karena cleanser ini enggak berbu...</td>\n",
              "      <td>5</td>\n",
              "      <td>1</td>\n",
              "    </tr>\n",
              "    <tr>\n",
              "      <th>...</th>\n",
              "      <td>...</td>\n",
              "      <td>...</td>\n",
              "      <td>...</td>\n",
              "      <td>...</td>\n",
              "      <td>...</td>\n",
              "    </tr>\n",
              "    <tr>\n",
              "      <th>495</th>\n",
              "      <td>Acnes: Creamy Wash</td>\n",
              "      <td>Dry</td>\n",
              "      <td>Aku beli ini karna baca blog female daily 3 cl...</td>\n",
              "      <td>1</td>\n",
              "      <td>0</td>\n",
              "    </tr>\n",
              "    <tr>\n",
              "      <th>496</th>\n",
              "      <td>Acnes: Creamy Wash</td>\n",
              "      <td>Dry</td>\n",
              "      <td>aku pake ini udh ngabisin 1 botol, saat aku je...</td>\n",
              "      <td>1</td>\n",
              "      <td>0</td>\n",
              "    </tr>\n",
              "    <tr>\n",
              "      <th>497</th>\n",
              "      <td>Acnes: Creamy Wash</td>\n",
              "      <td>Dry</td>\n",
              "      <td>Facial Wash yg aku beli pas awal2 mulai jerawa...</td>\n",
              "      <td>1</td>\n",
              "      <td>0</td>\n",
              "    </tr>\n",
              "    <tr>\n",
              "      <th>498</th>\n",
              "      <td>Acnes: Creamy Wash</td>\n",
              "      <td>Dry</td>\n",
              "      <td>Aku pernah beli ini dengan harapan bisa bantu ...</td>\n",
              "      <td>1</td>\n",
              "      <td>0</td>\n",
              "    </tr>\n",
              "    <tr>\n",
              "      <th>499</th>\n",
              "      <td>Acnes: Creamy Wash</td>\n",
              "      <td>Dry</td>\n",
              "      <td>Beli ini waktu awal kuliah pas banyak jerawat....</td>\n",
              "      <td>1</td>\n",
              "      <td>0</td>\n",
              "    </tr>\n",
              "  </tbody>\n",
              "</table>\n",
              "<p>500 rows × 5 columns</p>\n",
              "</div>"
            ],
            "text/plain": [
              "                        Nama Produk Jenis Kulit  ... Rating  Label\n",
              "0    Cetaphil: Gentle Skin Cleanser        Oily  ...      5      1\n",
              "1    Cetaphil: Gentle Skin Cleanser        Oily  ...      5      1\n",
              "2    Cetaphil: Gentle Skin Cleanser         Dry  ...      5      1\n",
              "3    Cetaphil: Gentle Skin Cleanser        Oily  ...      5      1\n",
              "4    Cetaphil: Gentle Skin Cleanser        Oily  ...      5      1\n",
              "..                              ...         ...  ...    ...    ...\n",
              "495              Acnes: Creamy Wash         Dry  ...      1      0\n",
              "496              Acnes: Creamy Wash         Dry  ...      1      0\n",
              "497              Acnes: Creamy Wash         Dry  ...      1      0\n",
              "498              Acnes: Creamy Wash         Dry  ...      1      0\n",
              "499              Acnes: Creamy Wash         Dry  ...      1      0\n",
              "\n",
              "[500 rows x 5 columns]"
            ]
          },
          "metadata": {
            "tags": []
          },
          "execution_count": 39
        }
      ]
    },
    {
      "cell_type": "code",
      "metadata": {
        "id": "5Xbx2iGichia"
      },
      "source": [
        "import en_core_web_sm\n",
        "import string\n",
        "from spacy.lang.id.stop_words import STOP_WORDS\n",
        "punct = string.punctuation\n",
        "#nlp = spacy.load('en_core_web_sm')\n",
        "nlp = en_core_web_sm.load()\n",
        "stopwords = list(STOP_WORDS)"
      ],
      "execution_count": null,
      "outputs": []
    },
    {
      "cell_type": "code",
      "metadata": {
        "id": "e6_1Mo_ncZZN"
      },
      "source": [
        "def text_data_cleaning(sentence):\n",
        "    doc = nlp(sentence)\n",
        "    \n",
        "    tokens = []\n",
        "    for token in doc:\n",
        "        if token.lemma_ != \"-PRON-\":\n",
        "            temp = token.lemma_.lower().strip()\n",
        "        else:\n",
        "            temp = token.lower_\n",
        "        tokens.append(temp)\n",
        "    \n",
        "    cleaned_tokens = []\n",
        "    for token in tokens:\n",
        "        if token not in stopwords and token not in punct:\n",
        "            cleaned_tokens.append(token)\n",
        "    return cleaned_tokens"
      ],
      "execution_count": null,
      "outputs": []
    },
    {
      "cell_type": "code",
      "metadata": {
        "colab": {
          "base_uri": "https://localhost:8080/"
        },
        "id": "gWTl509UbT9O",
        "outputId": "125a3af5-218a-4515-c01a-e3a8c3b1bc98"
      },
      "source": [
        "from sklearn.feature_extraction.text import TfidfVectorizer\n",
        "from sklearn.svm import LinearSVC\n",
        "from sklearn.pipeline import Pipeline\n",
        "from sklearn.metrics import accuracy_score\n",
        "from sklearn.model_selection import train_test_split\n",
        "import re\n",
        "\n",
        "tfidf = TfidfVectorizer(tokenizer = text_data_cleaning)\n",
        "classifier = LinearSVC()\n",
        "\n",
        "X = df['Review Produk']\n",
        "#X = X.lower()\n",
        "#X = [re.sub('[^a-zA-Z 0-9]', ' ', X)]\n",
        "y = df['Label']\n",
        "\n",
        "X_train, X_test, y_train, y_test = train_test_split(X, y, test_size = 0.2, random_state = 42)\n",
        "\n",
        "clf = Pipeline([('tfidf', tfidf), ('clf', classifier)])\n",
        "clf.fit(X_train, y_train)\n",
        "\n",
        "y_pred = clf.predict(X_test)\n",
        "\n",
        "\n",
        "#print(classification_report(y_test, y_pred))\n",
        "accuracy = accuracy_score(y_test, y_pred, normalize = True)\n",
        "accuracy"
      ],
      "execution_count": null,
      "outputs": [
        {
          "output_type": "execute_result",
          "data": {
            "text/plain": [
              "0.88"
            ]
          },
          "metadata": {
            "tags": []
          },
          "execution_count": 90
        }
      ]
    },
    {
      "cell_type": "code",
      "metadata": {
        "colab": {
          "base_uri": "https://localhost:8080/"
        },
        "id": "uEE-nKv6vYgr",
        "outputId": "99d742bc-4320-4c85-dcac-fff79baa9204"
      },
      "source": [
        "from sklearn.metrics import classification_report\n",
        "print(classification_report(y_test, y_pred))"
      ],
      "execution_count": null,
      "outputs": [
        {
          "output_type": "stream",
          "text": [
            "              precision    recall  f1-score   support\n",
            "\n",
            "           0       0.86      0.92      0.89        52\n",
            "           1       0.91      0.83      0.87        48\n",
            "\n",
            "    accuracy                           0.88       100\n",
            "   macro avg       0.88      0.88      0.88       100\n",
            "weighted avg       0.88      0.88      0.88       100\n",
            "\n"
          ],
          "name": "stdout"
        }
      ]
    },
    {
      "cell_type": "code",
      "metadata": {
        "colab": {
          "base_uri": "https://localhost:8080/"
        },
        "id": "WU_09gafiZOe",
        "outputId": "d7716403-985b-40bb-fe9a-badc736ae75e"
      },
      "source": [
        "from sklearn.metrics import confusion_matrix\n",
        "confusion_matrix(y_test, y_pred)"
      ],
      "execution_count": null,
      "outputs": [
        {
          "output_type": "execute_result",
          "data": {
            "text/plain": [
              "array([[69,  7],\n",
              "       [12, 62]])"
            ]
          },
          "metadata": {
            "tags": []
          },
          "execution_count": 30
        }
      ]
    },
    {
      "cell_type": "code",
      "metadata": {
        "colab": {
          "base_uri": "https://localhost:8080/"
        },
        "id": "qM0_bzvxJ1-w",
        "outputId": "03f16fdd-5d5f-403c-ceda-cb5635c47bd2"
      },
      "source": [
        "# with the following sentence you can get a mask of the items bad classified\n",
        "mask = np.logical_not(np.equal(y_test, y_pred))\n",
        "# Now you can use the mask to see the elements bad classified:\n",
        "print(f\"Elements wrong classified: {X_test[mask]}\")\n",
        "print(f\"Prediction by the model for each of those elements: {y_pred[mask]}\")\n",
        "print(f\"Actual value for each of those elements: {np.asarray(y_test)[mask]}\")"
      ],
      "execution_count": null,
      "outputs": [
        {
          "output_type": "stream",
          "text": [
            "Elements wrong classified: 487    Sebelumnya pakai Hada Labo mild peeling cleans...\n",
            "29     beli karena ini lagi sale terus banyak banget ...\n",
            "394    coba FW ini waktu itu dari rangkaian kit nya.....\n",
            "345    gk recom untuk dry skin karena habis dibilas a...\n",
            "106    Awalnya coba yg starter pack kecil (anti agein...\n",
            "250    akuu sukaa banget sama yang satu ini ? parahhh...\n",
            "74     Sukaaa banget sama produk ini!! Lembut di kuli...\n",
            "310    Pernah satu kali beli Cleanser ini karena kepe...\n",
            "376    Ngebersihin pake banget ?? cuma di aku kok ber...\n",
            "499    Beli ini waktu awal kuliah pas banyak jerawat....\n",
            "373    Enak banget cuci muka pake ft gentle cleanser ...\n",
            "342    Uda bertahun2 nyoba anti-acne facial wash berb...\n",
            "495    Aku beli ini karna baca blog female daily 3 cl...\n",
            "405    Wardah emang terkenal dengan brand HALAL, mura...\n",
            "228    wanginya krg enak, efeknya krg bagus di muka, ...\n",
            "471    salah satu product acnes yang nggak begitu bag...\n",
            "438    So far pake ini yaa, superbbbb bagus. Gara2nya...\n",
            "360    aku dapat sample ini saat aku beli facial trea...\n",
            "369    For a cleansing wash product it's just too exp...\n",
            "379    Kulit saya oily-dehydrated plus sensitive. Suu...\n",
            "397    nyoba facial wash ini karna dapet sample dari ...\n",
            "284    Pernah pake ini pas jerawatan .. tulisan nya a...\n",
            "172    Facial Cleaner yg bagus bukan yg bikin keset. ...\n",
            "418    saya pakai wardah lightening gentlewash dan ra...\n",
            "426    Aku ga suka sama produk ini. Licin2 gitu walau...\n",
            "315    Berharap banyak pada FW satu ini. Secara banya...\n",
            "104    Saya nggak merasakan bedanya sabun muka ini de...\n",
            "306    pake ini selama seminggu lebih ternyata dia in...\n",
            "375    paling demen kalau pas habis pakek makeup / ja...\n",
            "89     berawal dari racunnya mba suhay akhirnya aku c...\n",
            "468    Super ga cocok. Muka ku jadi kering dan keliat...\n",
            "421    Hasil pemakaian produk ini di kulit aku bener2...\n",
            "Name: Review Produk, dtype: object\n",
            "Prediction by the model for each of those elements: ['Positive' 'Positive' 'Positive' 'Positive' 'Negative' 'Negative'\n",
            " 'Negative' 'Positive' 'Negative' 'Positive' 'Positive' 'Negative'\n",
            " 'Positive' 'Positive' 'Positive' 'Positive' 'Negative' 'Negative'\n",
            " 'Positive' 'Negative' 'Positive' 'Positive' 'Negative' 'Positive'\n",
            " 'Positive' 'Positive' 'Negative' 'Positive' 'Negative' 'Positive'\n",
            " 'Positive' 'Positive']\n",
            "Actual value for each of those elements: ['Negative' 'Negative' 'Negative' 'Negative' 'Positive' 'Positive'\n",
            " 'Positive' 'Negative' 'Positive' 'Negative' 'Negative' 'Positive'\n",
            " 'Negative' 'Negative' 'Negative' 'Negative' 'Positive' 'Positive'\n",
            " 'Negative' 'Positive' 'Negative' 'Negative' 'Positive' 'Negative'\n",
            " 'Negative' 'Negative' 'Positive' 'Negative' 'Positive' 'Negative'\n",
            " 'Negative' 'Negative']\n"
          ],
          "name": "stdout"
        }
      ]
    },
    {
      "cell_type": "code",
      "metadata": {
        "colab": {
          "base_uri": "https://localhost:8080/"
        },
        "id": "K9z1iVCJSH55",
        "outputId": "000f17c0-c078-4825-dc1d-ac80908a0753"
      },
      "source": [
        "misclassified_samples = X_test[y_test != y_pred]\n",
        "misclassified_samples"
      ],
      "execution_count": null,
      "outputs": [
        {
          "output_type": "execute_result",
          "data": {
            "text/plain": [
              "487    Sebelumnya pakai Hada Labo mild peeling cleans...\n",
              "29     beli karena ini lagi sale terus banyak banget ...\n",
              "394    coba FW ini waktu itu dari rangkaian kit nya.....\n",
              "345    gk recom untuk dry skin karena habis dibilas a...\n",
              "106    Awalnya coba yg starter pack kecil (anti agein...\n",
              "250    akuu sukaa banget sama yang satu ini ? parahhh...\n",
              "74     Sukaaa banget sama produk ini!! Lembut di kuli...\n",
              "310    Pernah satu kali beli Cleanser ini karena kepe...\n",
              "376    Ngebersihin pake banget ?? cuma di aku kok ber...\n",
              "499    Beli ini waktu awal kuliah pas banyak jerawat....\n",
              "373    Enak banget cuci muka pake ft gentle cleanser ...\n",
              "342    Uda bertahun2 nyoba anti-acne facial wash berb...\n",
              "495    Aku beli ini karna baca blog female daily 3 cl...\n",
              "405    Wardah emang terkenal dengan brand HALAL, mura...\n",
              "228    wanginya krg enak, efeknya krg bagus di muka, ...\n",
              "471    salah satu product acnes yang nggak begitu bag...\n",
              "438    So far pake ini yaa, superbbbb bagus. Gara2nya...\n",
              "360    aku dapat sample ini saat aku beli facial trea...\n",
              "369    For a cleansing wash product it's just too exp...\n",
              "379    Kulit saya oily-dehydrated plus sensitive. Suu...\n",
              "397    nyoba facial wash ini karna dapet sample dari ...\n",
              "284    Pernah pake ini pas jerawatan .. tulisan nya a...\n",
              "172    Facial Cleaner yg bagus bukan yg bikin keset. ...\n",
              "418    saya pakai wardah lightening gentlewash dan ra...\n",
              "426    Aku ga suka sama produk ini. Licin2 gitu walau...\n",
              "315    Berharap banyak pada FW satu ini. Secara banya...\n",
              "104    Saya nggak merasakan bedanya sabun muka ini de...\n",
              "306    pake ini selama seminggu lebih ternyata dia in...\n",
              "375    paling demen kalau pas habis pakek makeup / ja...\n",
              "89     berawal dari racunnya mba suhay akhirnya aku c...\n",
              "468    Super ga cocok. Muka ku jadi kering dan keliat...\n",
              "421    Hasil pemakaian produk ini di kulit aku bener2...\n",
              "Name: Review Produk, dtype: object"
            ]
          },
          "metadata": {
            "tags": []
          },
          "execution_count": 88
        }
      ]
    }
  ]
}